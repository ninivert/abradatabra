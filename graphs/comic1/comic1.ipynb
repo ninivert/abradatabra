{
 "cells": [
  {
   "cell_type": "markdown",
   "metadata": {},
   "source": [
    "# Comic 1"
   ]
  },
  {
   "cell_type": "code",
   "execution_count": 1,
   "metadata": {},
   "outputs": [],
   "source": [
    "import matplotlib.pyplot as plt\n",
    "import numpy as np\n",
    "import pandas as pd\n",
    "from matplotlib_tufte import *\n",
    "setup()"
   ]
  },
  {
   "cell_type": "markdown",
   "metadata": {},
   "source": [
    "## Raw data"
   ]
  },
  {
   "cell_type": "code",
   "execution_count": 2,
   "metadata": {},
   "outputs": [
    {
     "data": {
      "text/html": [
       "<div>\n",
       "<style scoped>\n",
       "    .dataframe tbody tr th:only-of-type {\n",
       "        vertical-align: middle;\n",
       "    }\n",
       "\n",
       "    .dataframe tbody tr th {\n",
       "        vertical-align: top;\n",
       "    }\n",
       "\n",
       "    .dataframe thead th {\n",
       "        text-align: right;\n",
       "    }\n",
       "</style>\n",
       "<table border=\"1\" class=\"dataframe\">\n",
       "  <thead>\n",
       "    <tr style=\"text-align: right;\">\n",
       "      <th></th>\n",
       "      <th>year</th>\n",
       "      <th>chevaux</th>\n",
       "      <th>boeufs</th>\n",
       "    </tr>\n",
       "  </thead>\n",
       "  <tbody>\n",
       "    <tr>\n",
       "      <th>0</th>\n",
       "      <td>1</td>\n",
       "      <td>30</td>\n",
       "      <td>18</td>\n",
       "    </tr>\n",
       "    <tr>\n",
       "      <th>1</th>\n",
       "      <td>2</td>\n",
       "      <td>25</td>\n",
       "      <td>9</td>\n",
       "    </tr>\n",
       "    <tr>\n",
       "      <th>2</th>\n",
       "      <td>3</td>\n",
       "      <td>20</td>\n",
       "      <td>4</td>\n",
       "    </tr>\n",
       "  </tbody>\n",
       "</table>\n",
       "</div>"
      ],
      "text/plain": [
       "   year  chevaux  boeufs\n",
       "0     1       30      18\n",
       "1     2       25       9\n",
       "2     3       20       4"
      ]
     },
     "execution_count": 2,
     "metadata": {},
     "output_type": "execute_result"
    }
   ],
   "source": [
    "df = pd.DataFrame({\n",
    "\t'year': [1, 2, 3],\n",
    "\t'chevaux': [30, 25, 20],\n",
    "\t'boeufs': [18, 9, 4]\n",
    "})\n",
    "df"
   ]
  },
  {
   "cell_type": "code",
   "execution_count": 3,
   "metadata": {},
   "outputs": [
    {
     "data": {
      "text/html": [
       "<div>\n",
       "<style scoped>\n",
       "    .dataframe tbody tr th:only-of-type {\n",
       "        vertical-align: middle;\n",
       "    }\n",
       "\n",
       "    .dataframe tbody tr th {\n",
       "        vertical-align: top;\n",
       "    }\n",
       "\n",
       "    .dataframe thead th {\n",
       "        text-align: right;\n",
       "    }\n",
       "</style>\n",
       "<table border=\"1\" class=\"dataframe\">\n",
       "  <thead>\n",
       "    <tr style=\"text-align: right;\">\n",
       "      <th></th>\n",
       "      <th>year</th>\n",
       "      <th>frac chevaux</th>\n",
       "      <th>frac boeufs</th>\n",
       "    </tr>\n",
       "  </thead>\n",
       "  <tbody>\n",
       "    <tr>\n",
       "      <th>0</th>\n",
       "      <td>1</td>\n",
       "      <td>0.625000</td>\n",
       "      <td>0.375000</td>\n",
       "    </tr>\n",
       "    <tr>\n",
       "      <th>1</th>\n",
       "      <td>2</td>\n",
       "      <td>0.735294</td>\n",
       "      <td>0.264706</td>\n",
       "    </tr>\n",
       "    <tr>\n",
       "      <th>2</th>\n",
       "      <td>3</td>\n",
       "      <td>0.833333</td>\n",
       "      <td>0.166667</td>\n",
       "    </tr>\n",
       "  </tbody>\n",
       "</table>\n",
       "</div>"
      ],
      "text/plain": [
       "   year  frac chevaux  frac boeufs\n",
       "0     1      0.625000     0.375000\n",
       "1     2      0.735294     0.264706\n",
       "2     3      0.833333     0.166667"
      ]
     },
     "execution_count": 3,
     "metadata": {},
     "output_type": "execute_result"
    }
   ],
   "source": [
    "pd.DataFrame({\n",
    "\t'year': df.year,\n",
    "\t'frac chevaux': df.chevaux / (df.chevaux + df.boeufs),\n",
    "\t'frac boeufs': df.boeufs / (df.chevaux + df.boeufs)\n",
    "})"
   ]
  },
  {
   "cell_type": "markdown",
   "metadata": {},
   "source": [
    "## Pie charts (unscaled)"
   ]
  },
  {
   "cell_type": "code",
   "execution_count": 4,
   "metadata": {},
   "outputs": [
    {
     "data": {
      "image/png": "[encoded data removed]",
      "text/plain": [
       "<Figure size 400x300 with 3 Axes>"
      ]
     },
     "metadata": {},
     "output_type": "display_data"
    }
   ],
   "source": [
    "plt.close('all')\n",
    "fig, ax = plt.subplots(ncols=3, dpi=100)\n",
    "for idx, row in df.iterrows():\n",
    "\tax[idx].pie([row.chevaux, row.boeufs], colors=['tab:blue', 'tab:orange'])\n",
    "\tax[idx].set_title(f'year {row.year}')\n",
    "plt.show(fig)\n",
    "fig.savefig('fig1.png', transparent=True)\n",
    "fig.savefig('fig1.svg', transparent=True)"
   ]
  },
  {
   "cell_type": "markdown",
   "metadata": {},
   "source": [
    "## Pie charts (scaled)\n",
    "\n",
    "area is propto the total in the year"
   ]
  },
  {
   "cell_type": "code",
   "execution_count": 5,
   "metadata": {},
   "outputs": [
    {
     "data": {
      "image/png": "[encoded data removed]",
      "text/plain": [
       "<Figure size 400x300 with 3 Axes>"
      ]
     },
     "metadata": {},
     "output_type": "display_data"
    }
   ],
   "source": [
    "plt.close('all')\n",
    "fig, ax = plt.subplots(ncols=3, dpi=100)\n",
    "for idx, row in df.iterrows():\n",
    "\tax[idx].pie([row.chevaux, row.boeufs], radius=np.sqrt((row.chevaux+row.boeufs)/40), colors=['tab:blue', 'tab:orange'])\n",
    "\tax[idx].set_title(f'year {row.year}')\n",
    "plt.show(fig)\n",
    "fig.savefig('fig2.png', transparent=True)\n",
    "fig.savefig('fig2.svg', transparent=True)"
   ]
  },
  {
   "cell_type": "markdown",
   "metadata": {},
   "source": [
    "## Stacked plot"
   ]
  },
  {
   "cell_type": "code",
   "execution_count": 6,
   "metadata": {},
   "outputs": [
    {
     "data": {
      "image/png": "[encoded data removed]",
      "text/plain": [
       "<Figure size 400x300 with 1 Axes>"
      ]
     },
     "metadata": {
      "needs_background": "light"
     },
     "output_type": "display_data"
    }
   ],
   "source": [
    "plt.close('all')\n",
    "fig, ax = plt.subplots(dpi=100, figsize=(4, 3))\n",
    "ax.bar(df.year, df.boeufs, 0.3, color='tab:orange')\n",
    "ax.bar(df.year, df.chevaux, 0.3, bottom=df.boeufs, color='tab:blue')\n",
    "ax.set_ylabel('nombre d\\'accidents/an')\n",
    "ax.set_xticks(df.year)\n",
    "ax.set_xlabel('year')\n",
    "plt.show(fig)\n",
    "fig.savefig('fig3.png', transparent=True)\n",
    "fig.savefig('fig3.svg', transparent=True)"
   ]
  },
  {
   "cell_type": "markdown",
   "metadata": {},
   "source": [
    "Avec guides de lecture\n",
    "\n",
    "Problème : difficile de voir l'évolution individuelle"
   ]
  },
  {
   "cell_type": "code",
   "execution_count": 7,
   "metadata": {},
   "outputs": [
    {
     "data": {
      "image/png": "[encoded data removed]",
      "text/plain": [
       "<Figure size 400x300 with 1 Axes>"
      ]
     },
     "metadata": {
      "needs_background": "light"
     },
     "output_type": "display_data"
    }
   ],
   "source": [
    "plt.close('all')\n",
    "fig, ax = plt.subplots(dpi=100, figsize=(4, 3))\n",
    "bars = []\n",
    "bars.append(ax.bar(df.year, df.boeufs, 0.3, color='tab:orange'))\n",
    "bars.append(ax.bar(df.year, df.chevaux, 0.3, bottom=df.boeufs, color='tab:blue'))\n",
    "for bar in bars:\n",
    "\tfor idx in range(len(bar.patches)-1):\n",
    "\t\tr1, r2 = bar.patches[idx], bar.patches[idx+1]\n",
    "\t\tb1, b2 = r1.get_bbox(), r2.get_bbox()\n",
    "\t\tax.plot(\n",
    "\t\t\t[b1.xmax, b2.xmin], [b1.ymax, b2.ymax],\n",
    "\t\t\tlinestyle='dotted',\n",
    "\t\t\tcolor=r1.get_facecolor()\n",
    "\t\t)\n",
    "ax.set_xticks(df.year)\n",
    "ax.set_xlabel('year')\n",
    "ax.set_ylabel('nombre d\\'accidents/an')\n",
    "plt.show(fig)\n",
    "fig.savefig('fig4.png', transparent=True)\n",
    "fig.savefig('fig4.svg', transparent=True)"
   ]
  },
  {
   "cell_type": "markdown",
   "metadata": {},
   "source": [
    "Sur des axes séparés\n",
    "\n",
    "Problème : difficile de voir la proportion"
   ]
  },
  {
   "cell_type": "code",
   "execution_count": 8,
   "metadata": {},
   "outputs": [
    {
     "data": {
      "image/png": "[encoded data removed]",
      "text/plain": [
       "<Figure size 400x300 with 2 Axes>"
      ]
     },
     "metadata": {
      "needs_background": "light"
     },
     "output_type": "display_data"
    }
   ],
   "source": [
    "plt.close('all')\n",
    "fig, ax = plt.subplots(dpi=100, nrows=2, sharex=True, sharey=True, figsize=(4, 3))\n",
    "ax[0].bar(df.year, df.chevaux, 0.3, color='tab:blue')\n",
    "ax[1].bar(df.year, df.boeufs, 0.3, color='tab:orange')\n",
    "ax[1].set_xticks(df.year)\n",
    "ax[1].set_xlabel('year')\n",
    "# ax[1].set_ylim()\n",
    "plt.show(fig)\n",
    "fig.savefig('fig5.png', transparent=True)\n",
    "fig.savefig('fig5.svg', transparent=True)"
   ]
  },
  {
   "cell_type": "markdown",
   "metadata": {},
   "source": [
    "Sur des axes inversés\n",
    "\n",
    "Problème : possible seulement pour 2 catégories"
   ]
  },
  {
   "cell_type": "code",
   "execution_count": 9,
   "metadata": {},
   "outputs": [
    {
     "data": {
      "image/png": "[encoded data removed]",
      "text/plain": [
       "<Figure size 400x300 with 2 Axes>"
      ]
     },
     "metadata": {
      "needs_background": "light"
     },
     "output_type": "display_data"
    }
   ],
   "source": [
    "plt.close('all')\n",
    "fig, ax = plt.subplot_mosaic(\n",
    "\t[[0], [1]],\n",
    "\t# gridspec_kw=dict(wspace=0.0, hspace=0.0),\n",
    "\tdpi=100,\n",
    "\tfigsize=(4, 3)\n",
    ")\n",
    "ax[0].bar(df.year, df.chevaux, 0.3, color='tab:blue')\n",
    "ax[1].bar(df.year, df.boeufs, 0.3, color='tab:orange')\n",
    "ax[1].set_xticks(df.year)\n",
    "ax[1].set_xlabel('year')\n",
    "ax[0].xaxis.set_visible(False)\n",
    "ax[0].spines.bottom.set_visible(False)\n",
    "ax[0].set_ylim((0, 30))\n",
    "ax[1].set_ylim((30, 0))\n",
    "breathe(ax[0])\n",
    "breathe(ax[1])\n",
    "plt.show(fig)\n",
    "fig.savefig('fig6.png', transparent=True)\n",
    "fig.savefig('fig6.svg', transparent=True)"
   ]
  },
  {
   "cell_type": "code",
   "execution_count": 10,
   "metadata": {},
   "outputs": [
    {
     "data": {
      "image/png": "[encoded data removed]",
      "text/plain": [
       "<Figure size 400x300 with 2 Axes>"
      ]
     },
     "metadata": {
      "needs_background": "light"
     },
     "output_type": "display_data"
    }
   ],
   "source": [
    "plt.close('all')\n",
    "fig, ax = plt.subplot_mosaic(\n",
    "\t[[0], [1]],\n",
    "\tgridspec_kw=dict(wspace=0.0, hspace=0.0),\n",
    "\tdpi=100,\n",
    "\tfigsize=(4, 3)\n",
    ")\n",
    "ax[0].bar(df.year, df.chevaux, 0.3, color='tab:blue')\n",
    "ax[1].bar(df.year, df.boeufs, 0.3, color='tab:orange')\n",
    "ax[1].set_xticks(df.year)\n",
    "ax[1].set_xlabel('year')\n",
    "ax[0].xaxis.set_visible(False)\n",
    "ax[0].spines.bottom.set_visible(False)\n",
    "ax[0].set_ylim((0, 30))\n",
    "ax[1].set_ylim((30, 0))\n",
    "breathe(ax[0], 'x')\n",
    "breathe(ax[1], 'x')\n",
    "plt.show(fig)\n",
    "fig.savefig('fig8.png', transparent=True)\n",
    "fig.savefig('fig8.svg', transparent=True)"
   ]
  },
  {
   "cell_type": "markdown",
   "metadata": {},
   "source": [
    "Même chose, mais moins d'encre/espace (stemplot)"
   ]
  },
  {
   "cell_type": "code",
   "execution_count": 11,
   "metadata": {},
   "outputs": [
    {
     "data": {
      "image/png": "[encoded data removed]",
      "text/plain": [
       "<Figure size 300x300 with 2 Axes>"
      ]
     },
     "metadata": {
      "needs_background": "light"
     },
     "output_type": "display_data"
    }
   ],
   "source": [
    "plt.close('all')\n",
    "fig, ax = plt.subplot_mosaic(\n",
    "\t[[0], [1]],\n",
    "\tgridspec_kw=dict(wspace=0.0, hspace=0.0),\n",
    "\tdpi=100,\n",
    "\tfigsize=(3, 3)\n",
    ")\n",
    "ax[0].stem(df.year, df.chevaux, linefmt='C1', markerfmt='C1o', basefmt='k:')\n",
    "ax[1].stem(df.year, df.boeufs, linefmt='C2', markerfmt='C2o', basefmt='k:')\n",
    "ax[1].set_xticks(df.year)\n",
    "ax[1].set_xlabel('year')\n",
    "ax[0].xaxis.set_visible(False)\n",
    "ax[0].spines.bottom.set_visible(False)\n",
    "ax[0].set_ylim((0, 35))\n",
    "ax[1].set_ylim((35, 0))\n",
    "breathe(ax[0], 'x')\n",
    "breathe(ax[1], 'x')\n",
    "plt.show(fig)\n",
    "fig.savefig('fig9.png', transparent=True)\n",
    "fig.savefig('fig9.svg', transparent=True)"
   ]
  },
  {
   "cell_type": "markdown",
   "metadata": {},
   "source": [
    "## biais surfaces"
   ]
  },
  {
   "cell_type": "code",
   "execution_count": 12,
   "metadata": {},
   "outputs": [
    {
     "data": {
      "image/png": "[encoded data removed]",
      "text/plain": [
       "<Figure size 400x300 with 1 Axes>"
      ]
     },
     "metadata": {
      "needs_background": "light"
     },
     "output_type": "display_data"
    }
   ],
   "source": [
    "fig, ax = plt.subplots(dpi=100, figsize=(4, 3))\n",
    "# a = np.linspace(1, 200, 100)\n",
    "r = np.linspace(1, 20)\n",
    "a = r**2\n",
    "ax.plot(a, a, 'k:', label='surface réelle')\n",
    "ax.plot(a, a**0.86, 'k', label='surface perçue')\n",
    "ax.legend()\n",
    "ax.set_xlabel('surface')\n",
    "data_lim(ax)\n",
    "breathe(ax)\n",
    "plt.show()\n",
    "fig.savefig('fig10.png', transparent=True)\n",
    "fig.savefig('fig10.svg', transparent=True)"
   ]
  },
  {
   "cell_type": "markdown",
   "metadata": {},
   "source": [
    "## pie vs bar"
   ]
  },
  {
   "cell_type": "code",
   "execution_count": 147,
   "metadata": {},
   "outputs": [
    {
     "data": {
      "image/png": "[encoded data removed]",
      "text/plain": [
       "<Figure size 400x300 with 2 Axes>"
      ]
     },
     "metadata": {
      "needs_background": "light"
     },
     "output_type": "display_data"
    },
    {
     "data": {
      "image/png": "[encoded data removed]",
      "text/plain": [
       "<Figure size 400x300 with 4 Axes>"
      ]
     },
     "metadata": {},
     "output_type": "display_data"
    },
    {
     "data": {
      "image/png": "[encoded data removed]",
      "text/plain": [
       "<Figure size 400x300 with 1 Axes>"
      ]
     },
     "metadata": {
      "needs_background": "light"
     },
     "output_type": "display_data"
    },
    {
     "data": {
      "image/png": "[encoded data removed]",
      "text/plain": [
       "<Figure size 400x300 with 1 Axes>"
      ]
     },
     "metadata": {
      "needs_background": "light"
     },
     "output_type": "display_data"
    }
   ],
   "source": [
    "np.random.seed(0)\n",
    "x = np.empty((4, 7))\n",
    "x[0, :] = np.sort(np.random.lognormal(size=7))[::-1]\n",
    "for idx in range(1, x.shape[0]):\n",
    "\tx[idx, :] = x[idx-1, :] + np.abs(np.random.normal(loc=0.5, scale=2, size=7))\n",
    "x = x.astype(int)\n",
    "\n",
    "plt.close('all')\n",
    "fig, ax = plt.subplots(ncols=2)\n",
    "for idx in range(len(x[0])):\n",
    "\tax[0].bar([0], [x[0, idx]], 0.3, bottom=sum(x[0, :idx]))\n",
    "ax[0].set_xlim((-0.5, 0.5))\n",
    "ax[0].axis('off')\n",
    "ax[1].pie(x[0])\n",
    "plt.show()\n",
    "fig.savefig('fig11.png', transparent=True)\n",
    "fig.savefig('fig11.svg', transparent=True)\n",
    "\n",
    "plt.close('all')\n",
    "fig, ax = plt.subplots(ncols=x.shape[0], dpi=100, facecolor='white')\n",
    "for idx in range(x.shape[0]):\n",
    "\tax[idx].pie(x[idx], radius=np.sqrt(x[idx].sum())/6)\n",
    "\tax[idx].set_title(f'jour {idx}')\n",
    "plt.show()\n",
    "fig.savefig('fig12.png', transparent=True)\n",
    "fig.savefig('fig12.svg', transparent=True)\n",
    "\n",
    "plt.close('all')\n",
    "fig, ax = plt.subplots(dpi=100)\n",
    "bars = []\n",
    "for idc in range(x.shape[1]):\n",
    "\tbars.append(ax.bar(np.arange(x.shape[0]), x[:, idc], 0.3, bottom=[sum(x_[:idc]) for x_ in x]))\n",
    "for bar in bars:\n",
    "\tfor idx in range(len(bar.patches)-1):\n",
    "\t\tr1, r2 = bar.patches[idx], bar.patches[idx+1]\n",
    "\t\tb1, b2 = r1.get_bbox(), r2.get_bbox()\n",
    "\t\tax.plot(\n",
    "\t\t\t[b1.xmax, b2.xmin], [b1.ymax, b2.ymax],\n",
    "\t\t\tlinestyle='dotted',\n",
    "\t\t\tcolor=r1.get_facecolor()\n",
    "\t\t)\n",
    "ax.set_xticks(np.arange(x.shape[0]))\n",
    "ax.set_xticklabels([f'jour {i}' for i in np.arange(x.shape[0])])\n",
    "breathe(ax, 'x')\n",
    "ax.set_ylim((0, 60))\n",
    "plt.show()\n",
    "fig.savefig('fig13.png', transparent=True)\n",
    "fig.savefig('fig13.svg', transparent=True)\n",
    "\n",
    "plt.close('all')\n",
    "fig, ax = plt.subplots(dpi=100)\n",
    "for idc in range(x.shape[1]):\n",
    "\tax.fill_between(\n",
    "\t\tnp.arange(x.shape[0]),\n",
    "\t\tnp.sum(x[:, :idc], axis=1) if idc > 0 else np.zeros_like(x[:, idc]),\n",
    "\t\tnp.sum(x[:, :idc+1], axis=1)\n",
    "\t)\n",
    "ax.set_xticks(np.arange(x.shape[0]))\n",
    "ax.set_xticklabels([f'jour {i}' for i in np.arange(x.shape[0])])\n",
    "breathe(ax, 'x')\n",
    "ax.set_ylim((0, 60))\n",
    "plt.show()\n",
    "fig.savefig('fig14.png', transparent=True)\n",
    "fig.savefig('fig14.svg', transparent=True)"
   ]
  },
  {
   "cell_type": "code",
   "execution_count": 203,
   "metadata": {},
   "outputs": [
    {
     "data": {
      "image/png": "[encoded data removed]",
      "text/plain": [
       "<Figure size 400x300 with 1 Axes>"
      ]
     },
     "metadata": {
      "needs_background": "light"
     },
     "output_type": "display_data"
    }
   ],
   "source": [
    "import matplotlib as mpl\n",
    "\n",
    "plt.close('all')\n",
    "fig, ax = plt.subplots()\n",
    "# ax.pie(x[0], labels=[f'cat. {i+1}' for i in range(x.shape[1])])\n",
    "handles = [mpl.patches.Rectangle((0, 0), 1, 1, color=f'C{i}') for i in range(x.shape[1])]\n",
    "labels = [f'cat. {i+1}' for i in range(x.shape[1])]\n",
    "ax.legend(handles=handles, labels=labels, bbox_to_anchor=(0, 1))\n",
    "ax.axis('off')\n",
    "plt.show()\n",
    "# fig.savefig('fig_legends.png', transparent=True)\n",
    "fig.savefig('fig_legends.svg', transparent=True)"
   ]
  },
  {
   "cell_type": "code",
   "execution_count": 174,
   "metadata": {},
   "outputs": [],
   "source": [
    "df = pd.DataFrame(x, [f'jour {i+1}' for i in range(x.shape[0])], [f'cat. {i+1}' for i in range(x.shape[1])])"
   ]
  },
  {
   "cell_type": "code",
   "execution_count": 175,
   "metadata": {},
   "outputs": [
    {
     "data": {
      "text/html": [
       "<div>\n",
       "<style scoped>\n",
       "    .dataframe tbody tr th:only-of-type {\n",
       "        vertical-align: middle;\n",
       "    }\n",
       "\n",
       "    .dataframe tbody tr th {\n",
       "        vertical-align: top;\n",
       "    }\n",
       "\n",
       "    .dataframe thead th {\n",
       "        text-align: right;\n",
       "    }\n",
       "</style>\n",
       "<table border=\"1\" class=\"dataframe\">\n",
       "  <thead>\n",
       "    <tr style=\"text-align: right;\">\n",
       "      <th></th>\n",
       "      <th>cat. 1</th>\n",
       "      <th>cat. 2</th>\n",
       "      <th>cat. 3</th>\n",
       "      <th>cat. 4</th>\n",
       "      <th>cat. 5</th>\n",
       "      <th>cat. 6</th>\n",
       "      <th>cat. 7</th>\n",
       "    </tr>\n",
       "  </thead>\n",
       "  <tbody>\n",
       "    <tr>\n",
       "      <th>jour 1</th>\n",
       "      <td>9</td>\n",
       "      <td>6</td>\n",
       "      <td>5</td>\n",
       "      <td>2</td>\n",
       "      <td>2</td>\n",
       "      <td>1</td>\n",
       "      <td>0</td>\n",
       "    </tr>\n",
       "    <tr>\n",
       "      <th>jour 2</th>\n",
       "      <td>9</td>\n",
       "      <td>6</td>\n",
       "      <td>7</td>\n",
       "      <td>3</td>\n",
       "      <td>5</td>\n",
       "      <td>3</td>\n",
       "      <td>1</td>\n",
       "    </tr>\n",
       "    <tr>\n",
       "      <th>jour 3</th>\n",
       "      <td>10</td>\n",
       "      <td>7</td>\n",
       "      <td>10</td>\n",
       "      <td>3</td>\n",
       "      <td>7</td>\n",
       "      <td>4</td>\n",
       "      <td>5</td>\n",
       "    </tr>\n",
       "    <tr>\n",
       "      <th>jour 4</th>\n",
       "      <td>12</td>\n",
       "      <td>10</td>\n",
       "      <td>11</td>\n",
       "      <td>8</td>\n",
       "      <td>9</td>\n",
       "      <td>5</td>\n",
       "      <td>5</td>\n",
       "    </tr>\n",
       "  </tbody>\n",
       "</table>\n",
       "</div>"
      ],
      "text/plain": [
       "        cat. 1  cat. 2  cat. 3  cat. 4  cat. 5  cat. 6  cat. 7\n",
       "jour 1       9       6       5       2       2       1       0\n",
       "jour 2       9       6       7       3       5       3       1\n",
       "jour 3      10       7      10       3       7       4       5\n",
       "jour 4      12      10      11       8       9       5       5"
      ]
     },
     "execution_count": 175,
     "metadata": {},
     "output_type": "execute_result"
    }
   ],
   "source": [
    "df"
   ]
  },
  {
   "cell_type": "code",
   "execution_count": 180,
   "metadata": {},
   "outputs": [
    {
     "name": "stdout",
     "output_type": "stream",
     "text": [
      "<table border=\"1\" class=\"dataframe\">\n",
      "  <thead>\n",
      "    <tr style=\"text-align: right;\">\n",
      "      <th></th>\n",
      "      <th>cat. 1</th>\n",
      "      <th>cat. 2</th>\n",
      "      <th>cat. 3</th>\n",
      "      <th>cat. 4</th>\n",
      "      <th>cat. 5</th>\n",
      "      <th>cat. 6</th>\n",
      "      <th>cat. 7</th>\n",
      "    </tr>\n",
      "  </thead>\n",
      "  <tbody>\n",
      "    <tr>\n",
      "      <th>jour 1</th>\n",
      "      <td>9</td>\n",
      "      <td>6</td>\n",
      "      <td>5</td>\n",
      "      <td>2</td>\n",
      "      <td>2</td>\n",
      "      <td>1</td>\n",
      "      <td>0</td>\n",
      "    </tr>\n",
      "    <tr>\n",
      "      <th>jour 2</th>\n",
      "      <td>9</td>\n",
      "      <td>6</td>\n",
      "      <td>7</td>\n",
      "      <td>3</td>\n",
      "      <td>5</td>\n",
      "      <td>3</td>\n",
      "      <td>1</td>\n",
      "    </tr>\n",
      "    <tr>\n",
      "      <th>jour 3</th>\n",
      "      <td>10</td>\n",
      "      <td>7</td>\n",
      "      <td>10</td>\n",
      "      <td>3</td>\n",
      "      <td>7</td>\n",
      "      <td>4</td>\n",
      "      <td>5</td>\n",
      "    </tr>\n",
      "    <tr>\n",
      "      <th>jour 4</th>\n",
      "      <td>12</td>\n",
      "      <td>10</td>\n",
      "      <td>11</td>\n",
      "      <td>8</td>\n",
      "      <td>9</td>\n",
      "      <td>5</td>\n",
      "      <td>5</td>\n",
      "    </tr>\n",
      "  </tbody>\n",
      "</table>\n"
     ]
    }
   ],
   "source": [
    "print(df.to_html())"
   ]
  },
  {
   "cell_type": "markdown",
   "metadata": {},
   "source": [
    "Note percentages do not add up to 100 due to rounding"
   ]
  },
  {
   "cell_type": "code",
   "execution_count": 177,
   "metadata": {},
   "outputs": [],
   "source": [
    "df_per = pd.concat([\n",
    "\t(df[i] / df.sum(axis=1))\\\n",
    "\t\t.mul(100)\n",
    "\t\t.round()\n",
    "\t\t.astype(int)\n",
    "\t\t.rename(f'{i} (% jour)')\n",
    "\tfor i in df.columns\n",
    "], axis=1)"
   ]
  },
  {
   "cell_type": "code",
   "execution_count": 178,
   "metadata": {},
   "outputs": [
    {
     "data": {
      "text/html": [
       "<div>\n",
       "<style scoped>\n",
       "    .dataframe tbody tr th:only-of-type {\n",
       "        vertical-align: middle;\n",
       "    }\n",
       "\n",
       "    .dataframe tbody tr th {\n",
       "        vertical-align: top;\n",
       "    }\n",
       "\n",
       "    .dataframe thead th {\n",
       "        text-align: right;\n",
       "    }\n",
       "</style>\n",
       "<table border=\"1\" class=\"dataframe\">\n",
       "  <thead>\n",
       "    <tr style=\"text-align: right;\">\n",
       "      <th></th>\n",
       "      <th>cat. 1 (% jour)</th>\n",
       "      <th>cat. 2 (% jour)</th>\n",
       "      <th>cat. 3 (% jour)</th>\n",
       "      <th>cat. 4 (% jour)</th>\n",
       "      <th>cat. 5 (% jour)</th>\n",
       "      <th>cat. 6 (% jour)</th>\n",
       "      <th>cat. 7 (% jour)</th>\n",
       "    </tr>\n",
       "  </thead>\n",
       "  <tbody>\n",
       "    <tr>\n",
       "      <th>jour 1</th>\n",
       "      <td>36</td>\n",
       "      <td>24</td>\n",
       "      <td>20</td>\n",
       "      <td>8</td>\n",
       "      <td>8</td>\n",
       "      <td>4</td>\n",
       "      <td>0</td>\n",
       "    </tr>\n",
       "    <tr>\n",
       "      <th>jour 2</th>\n",
       "      <td>26</td>\n",
       "      <td>18</td>\n",
       "      <td>21</td>\n",
       "      <td>9</td>\n",
       "      <td>15</td>\n",
       "      <td>9</td>\n",
       "      <td>3</td>\n",
       "    </tr>\n",
       "    <tr>\n",
       "      <th>jour 3</th>\n",
       "      <td>22</td>\n",
       "      <td>15</td>\n",
       "      <td>22</td>\n",
       "      <td>7</td>\n",
       "      <td>15</td>\n",
       "      <td>9</td>\n",
       "      <td>11</td>\n",
       "    </tr>\n",
       "    <tr>\n",
       "      <th>jour 4</th>\n",
       "      <td>20</td>\n",
       "      <td>17</td>\n",
       "      <td>18</td>\n",
       "      <td>13</td>\n",
       "      <td>15</td>\n",
       "      <td>8</td>\n",
       "      <td>8</td>\n",
       "    </tr>\n",
       "  </tbody>\n",
       "</table>\n",
       "</div>"
      ],
      "text/plain": [
       "        cat. 1 (% jour)  cat. 2 (% jour)  cat. 3 (% jour)  cat. 4 (% jour)  \\\n",
       "jour 1               36               24               20                8   \n",
       "jour 2               26               18               21                9   \n",
       "jour 3               22               15               22                7   \n",
       "jour 4               20               17               18               13   \n",
       "\n",
       "        cat. 5 (% jour)  cat. 6 (% jour)  cat. 7 (% jour)  \n",
       "jour 1                8                4                0  \n",
       "jour 2               15                9                3  \n",
       "jour 3               15                9               11  \n",
       "jour 4               15                8                8  "
      ]
     },
     "execution_count": 178,
     "metadata": {},
     "output_type": "execute_result"
    }
   ],
   "source": [
    "df_per"
   ]
  },
  {
   "cell_type": "code",
   "execution_count": 181,
   "metadata": {},
   "outputs": [
    {
     "name": "stdout",
     "output_type": "stream",
     "text": [
      "<table border=\"1\" class=\"dataframe\">\n",
      "  <thead>\n",
      "    <tr style=\"text-align: right;\">\n",
      "      <th></th>\n",
      "      <th>cat. 1 (% jour)</th>\n",
      "      <th>cat. 2 (% jour)</th>\n",
      "      <th>cat. 3 (% jour)</th>\n",
      "      <th>cat. 4 (% jour)</th>\n",
      "      <th>cat. 5 (% jour)</th>\n",
      "      <th>cat. 6 (% jour)</th>\n",
      "      <th>cat. 7 (% jour)</th>\n",
      "    </tr>\n",
      "  </thead>\n",
      "  <tbody>\n",
      "    <tr>\n",
      "      <th>jour 1</th>\n",
      "      <td>36</td>\n",
      "      <td>24</td>\n",
      "      <td>20</td>\n",
      "      <td>8</td>\n",
      "      <td>8</td>\n",
      "      <td>4</td>\n",
      "      <td>0</td>\n",
      "    </tr>\n",
      "    <tr>\n",
      "      <th>jour 2</th>\n",
      "      <td>26</td>\n",
      "      <td>18</td>\n",
      "      <td>21</td>\n",
      "      <td>9</td>\n",
      "      <td>15</td>\n",
      "      <td>9</td>\n",
      "      <td>3</td>\n",
      "    </tr>\n",
      "    <tr>\n",
      "      <th>jour 3</th>\n",
      "      <td>22</td>\n",
      "      <td>15</td>\n",
      "      <td>22</td>\n",
      "      <td>7</td>\n",
      "      <td>15</td>\n",
      "      <td>9</td>\n",
      "      <td>11</td>\n",
      "    </tr>\n",
      "    <tr>\n",
      "      <th>jour 4</th>\n",
      "      <td>20</td>\n",
      "      <td>17</td>\n",
      "      <td>18</td>\n",
      "      <td>13</td>\n",
      "      <td>15</td>\n",
      "      <td>8</td>\n",
      "      <td>8</td>\n",
      "    </tr>\n",
      "  </tbody>\n",
      "</table>\n"
     ]
    }
   ],
   "source": [
    "print(df_per.to_html())"
   ]
  }
 ],
 "metadata": {
  "interpreter": {
   "hash": "20eafe25b7d45241115fdc525e3188329eff92b5da4db4cc633d8cc173d4a71c"
  },
  "kernelspec": {
   "display_name": "Python 3.9.5 ('base')",
   "language": "python",
   "name": "python3"
  },
  "language_info": {
   "codemirror_mode": {
    "name": "ipython",
    "version": 3
   },
   "file_extension": ".py",
   "mimetype": "text/x-python",
   "name": "python",
   "nbconvert_exporter": "python",
   "pygments_lexer": "ipython3",
   "version": "3.10.4"
  },
  "orig_nbformat": 4
 },
 "nbformat": 4,
 "nbformat_minor": 2
}
