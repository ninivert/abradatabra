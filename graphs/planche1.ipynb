{
 "cells": [
  {
   "cell_type": "markdown",
   "metadata": {},
   "source": [
    "# Le camembert, ça pue"
   ]
  },
  {
   "cell_type": "code",
   "execution_count": 1,
   "metadata": {},
   "outputs": [],
   "source": [
    "import matplotlib.pyplot as plt\n",
    "import numpy as np\n",
    "import pandas as pd\n",
    "from matplotlib_tufte import *\n",
    "setup()"
   ]
  },
  {
   "cell_type": "markdown",
   "metadata": {},
   "source": [
    "## Raw data"
   ]
  },
  {
   "cell_type": "code",
   "execution_count": 2,
   "metadata": {},
   "outputs": [
    {
     "data": {
      "text/html": [
       "<div>\n",
       "<style scoped>\n",
       "    .dataframe tbody tr th:only-of-type {\n",
       "        vertical-align: middle;\n",
       "    }\n",
       "\n",
       "    .dataframe tbody tr th {\n",
       "        vertical-align: top;\n",
       "    }\n",
       "\n",
       "    .dataframe thead th {\n",
       "        text-align: right;\n",
       "    }\n",
       "</style>\n",
       "<table border=\"1\" class=\"dataframe\">\n",
       "  <thead>\n",
       "    <tr style=\"text-align: right;\">\n",
       "      <th></th>\n",
       "      <th>year</th>\n",
       "      <th>chevaux</th>\n",
       "      <th>boeufs</th>\n",
       "    </tr>\n",
       "  </thead>\n",
       "  <tbody>\n",
       "    <tr>\n",
       "      <th>0</th>\n",
       "      <td>1</td>\n",
       "      <td>30</td>\n",
       "      <td>18</td>\n",
       "    </tr>\n",
       "    <tr>\n",
       "      <th>1</th>\n",
       "      <td>2</td>\n",
       "      <td>25</td>\n",
       "      <td>9</td>\n",
       "    </tr>\n",
       "    <tr>\n",
       "      <th>2</th>\n",
       "      <td>3</td>\n",
       "      <td>20</td>\n",
       "      <td>4</td>\n",
       "    </tr>\n",
       "  </tbody>\n",
       "</table>\n",
       "</div>"
      ],
      "text/plain": [
       "   year  chevaux  boeufs\n",
       "0     1       30      18\n",
       "1     2       25       9\n",
       "2     3       20       4"
      ]
     },
     "execution_count": 2,
     "metadata": {},
     "output_type": "execute_result"
    }
   ],
   "source": [
    "df = pd.DataFrame({\n",
    "\t'year': [1, 2, 3],\n",
    "\t'chevaux': [30, 25, 20],\n",
    "\t'boeufs': [18, 9, 4]\n",
    "})\n",
    "df"
   ]
  },
  {
   "cell_type": "code",
   "execution_count": 3,
   "metadata": {},
   "outputs": [
    {
     "data": {
      "text/html": [
       "<div>\n",
       "<style scoped>\n",
       "    .dataframe tbody tr th:only-of-type {\n",
       "        vertical-align: middle;\n",
       "    }\n",
       "\n",
       "    .dataframe tbody tr th {\n",
       "        vertical-align: top;\n",
       "    }\n",
       "\n",
       "    .dataframe thead th {\n",
       "        text-align: right;\n",
       "    }\n",
       "</style>\n",
       "<table border=\"1\" class=\"dataframe\">\n",
       "  <thead>\n",
       "    <tr style=\"text-align: right;\">\n",
       "      <th></th>\n",
       "      <th>year</th>\n",
       "      <th>frac chevaux</th>\n",
       "      <th>frac boeufs</th>\n",
       "    </tr>\n",
       "  </thead>\n",
       "  <tbody>\n",
       "    <tr>\n",
       "      <th>0</th>\n",
       "      <td>1</td>\n",
       "      <td>0.625000</td>\n",
       "      <td>0.375000</td>\n",
       "    </tr>\n",
       "    <tr>\n",
       "      <th>1</th>\n",
       "      <td>2</td>\n",
       "      <td>0.735294</td>\n",
       "      <td>0.264706</td>\n",
       "    </tr>\n",
       "    <tr>\n",
       "      <th>2</th>\n",
       "      <td>3</td>\n",
       "      <td>0.833333</td>\n",
       "      <td>0.166667</td>\n",
       "    </tr>\n",
       "  </tbody>\n",
       "</table>\n",
       "</div>"
      ],
      "text/plain": [
       "   year  frac chevaux  frac boeufs\n",
       "0     1      0.625000     0.375000\n",
       "1     2      0.735294     0.264706\n",
       "2     3      0.833333     0.166667"
      ]
     },
     "execution_count": 3,
     "metadata": {},
     "output_type": "execute_result"
    }
   ],
   "source": [
    "pd.DataFrame({\n",
    "\t'year': df.year,\n",
    "\t'frac chevaux': df.chevaux / (df.chevaux + df.boeufs),\n",
    "\t'frac boeufs': df.boeufs / (df.chevaux + df.boeufs)\n",
    "})"
   ]
  },
  {
   "cell_type": "markdown",
   "metadata": {},
   "source": [
    "## Pie charts (unscaled)"
   ]
  },
  {
   "cell_type": "code",
   "execution_count": 4,
   "metadata": {},
   "outputs": [
    {
     "data": {
      "image/png": "[encoded data removed]",
      "text/plain": [
       "<Figure size 600x400 with 3 Axes>"
      ]
     },
     "metadata": {},
     "output_type": "display_data"
    }
   ],
   "source": [
    "plt.close('all')\n",
    "fig, ax = plt.subplots(ncols=3, dpi=100)\n",
    "for idx, row in df.iterrows():\n",
    "\tax[idx].pie([row.chevaux, row.boeufs], colors=['tab:blue', 'tab:orange'])\n",
    "\tax[idx].set_title(f'year {row.year}')\n",
    "plt.show(fig)"
   ]
  },
  {
   "cell_type": "markdown",
   "metadata": {},
   "source": [
    "## Pie charts (scaled)\n",
    "\n",
    "area is propto the total in the year"
   ]
  },
  {
   "cell_type": "code",
   "execution_count": 5,
   "metadata": {},
   "outputs": [
    {
     "data": {
      "image/png": "[encoded data removed]",
      "text/plain": [
       "<Figure size 600x400 with 3 Axes>"
      ]
     },
     "metadata": {},
     "output_type": "display_data"
    }
   ],
   "source": [
    "plt.close('all')\n",
    "fig, ax = plt.subplots(ncols=3, dpi=100)\n",
    "for idx, row in df.iterrows():\n",
    "\tax[idx].pie([row.chevaux, row.boeufs], radius=np.sqrt((row.chevaux+row.boeufs)/40), colors=['tab:blue', 'tab:orange'])\n",
    "\tax[idx].set_title(f'year {row.year}')\n",
    "plt.show(fig)"
   ]
  },
  {
   "cell_type": "markdown",
   "metadata": {},
   "source": [
    "## Stacked plot"
   ]
  },
  {
   "cell_type": "code",
   "execution_count": 13,
   "metadata": {},
   "outputs": [
    {
     "data": {
      "image/png": "[encoded data removed]",
      "text/plain": [
       "<Figure size 400x300 with 1 Axes>"
      ]
     },
     "metadata": {
      "needs_background": "light"
     },
     "output_type": "display_data"
    }
   ],
   "source": [
    "plt.close('all')\n",
    "fig, ax = plt.subplots(dpi=100, figsize=(4, 3))\n",
    "ax.bar(df.year, df.boeufs, 0.3, color='tab:orange')\n",
    "ax.bar(df.year, df.chevaux, 0.3, bottom=df.boeufs, color='tab:blue')\n",
    "ax.set_ylabel('nombre d\\'accidents/an')\n",
    "ax.set_xticks(df.year)\n",
    "ax.set_xlabel('year')\n",
    "plt.show(fig)"
   ]
  },
  {
   "cell_type": "markdown",
   "metadata": {},
   "source": [
    "Avec guides de lecture\n",
    "\n",
    "Problème : difficile de voir l'évolution individuelle"
   ]
  },
  {
   "cell_type": "code",
   "execution_count": 14,
   "metadata": {},
   "outputs": [
    {
     "data": {
      "image/png": "[encoded data removed]",
      "text/plain": [
       "<Figure size 400x300 with 1 Axes>"
      ]
     },
     "metadata": {
      "needs_background": "light"
     },
     "output_type": "display_data"
    }
   ],
   "source": [
    "plt.close('all')\n",
    "fig, ax = plt.subplots(dpi=100, figsize=(4, 3))\n",
    "bars = []\n",
    "bars.append(ax.bar(df.year, df.boeufs, 0.3, color='tab:orange'))\n",
    "bars.append(ax.bar(df.year, df.chevaux, 0.3, bottom=df.boeufs, color='tab:blue'))\n",
    "for bar in bars:\n",
    "\tfor idx in range(len(bar.patches)-1):\n",
    "\t\tr1, r2 = bar.patches[idx], bar.patches[idx+1]\n",
    "\t\tb1, b2 = r1.get_bbox(), r2.get_bbox()\n",
    "\t\tax.plot(\n",
    "\t\t\t[b1.xmax, b2.xmin], [b1.ymax, b2.ymax],\n",
    "\t\t\tlinestyle='dotted',\n",
    "\t\t\tcolor=r1.get_facecolor()\n",
    "\t\t)\n",
    "ax.set_xticks(df.year)\n",
    "ax.set_xlabel('year')\n",
    "ax.set_ylabel('nombre d\\'accidents/an')\n",
    "plt.show(fig)"
   ]
  },
  {
   "cell_type": "markdown",
   "metadata": {},
   "source": [
    "Sur des axes séparés\n",
    "\n",
    "Problème : difficile de voir la proportion"
   ]
  },
  {
   "cell_type": "code",
   "execution_count": 15,
   "metadata": {},
   "outputs": [
    {
     "data": {
      "image/png": "[encoded data removed]",
      "text/plain": [
       "<Figure size 400x300 with 2 Axes>"
      ]
     },
     "metadata": {
      "needs_background": "light"
     },
     "output_type": "display_data"
    }
   ],
   "source": [
    "plt.close('all')\n",
    "fig, ax = plt.subplots(dpi=100, nrows=2, sharex=True, sharey=True, figsize=(4, 3))\n",
    "ax[0].bar(df.year, df.chevaux, 0.3, color='tab:blue')\n",
    "ax[1].bar(df.year, df.boeufs, 0.3, color='tab:orange')\n",
    "ax[1].set_xticks(df.year)\n",
    "ax[1].set_xlabel('year')\n",
    "# ax[1].set_ylim()\n",
    "plt.show(fig)"
   ]
  },
  {
   "cell_type": "markdown",
   "metadata": {},
   "source": [
    "Sur des axes inversés\n",
    "\n",
    "Problème : possible seulement pour 2 catégories"
   ]
  },
  {
   "cell_type": "code",
   "execution_count": 16,
   "metadata": {},
   "outputs": [
    {
     "data": {
      "image/png": "[encoded data removed]",
      "text/plain": [
       "<Figure size 400x300 with 2 Axes>"
      ]
     },
     "metadata": {
      "needs_background": "light"
     },
     "output_type": "display_data"
    }
   ],
   "source": [
    "plt.close('all')\n",
    "fig, ax = plt.subplot_mosaic(\n",
    "\t[[0], [1]],\n",
    "\t# gridspec_kw=dict(wspace=0.0, hspace=0.0),\n",
    "\tdpi=100,\n",
    "\tfigsize=(4, 3)\n",
    ")\n",
    "ax[0].bar(df.year, df.chevaux, 0.3, color='tab:blue')\n",
    "ax[1].bar(df.year, df.boeufs, 0.3, color='tab:orange')\n",
    "ax[1].set_xticks(df.year)\n",
    "ax[1].set_xlabel('year')\n",
    "ax[0].xaxis.set_visible(False)\n",
    "ax[0].spines.bottom.set_visible(False)\n",
    "ax[0].set_ylim((0, 30))\n",
    "ax[1].set_ylim((30, 0))\n",
    "breathe(ax[0])\n",
    "breathe(ax[1])\n",
    "plt.show(fig)"
   ]
  },
  {
   "cell_type": "code",
   "execution_count": 17,
   "metadata": {},
   "outputs": [
    {
     "data": {
      "image/png": "[encoded data removed]",
      "text/plain": [
       "<Figure size 400x300 with 2 Axes>"
      ]
     },
     "metadata": {
      "needs_background": "light"
     },
     "output_type": "display_data"
    }
   ],
   "source": [
    "plt.close('all')\n",
    "fig, ax = plt.subplot_mosaic(\n",
    "\t[[0], [1]],\n",
    "\tgridspec_kw=dict(wspace=0.0, hspace=0.0),\n",
    "\tdpi=100,\n",
    "\tfigsize=(4, 3)\n",
    ")\n",
    "ax[0].bar(df.year, df.chevaux, 0.3, color='tab:blue')\n",
    "ax[1].bar(df.year, df.boeufs, 0.3, color='tab:orange')\n",
    "ax[1].set_xticks(df.year)\n",
    "ax[1].set_xlabel('year')\n",
    "ax[0].xaxis.set_visible(False)\n",
    "ax[0].spines.bottom.set_visible(False)\n",
    "ax[0].set_ylim((0, 30))\n",
    "ax[1].set_ylim((30, 0))\n",
    "breathe(ax[0], 'x')\n",
    "breathe(ax[1], 'x')\n",
    "plt.show(fig)"
   ]
  },
  {
   "cell_type": "markdown",
   "metadata": {},
   "source": [
    "Même chose, mais moins d'encre/espace (stemplot)"
   ]
  },
  {
   "cell_type": "code",
   "execution_count": 44,
   "metadata": {},
   "outputs": [
    {
     "data": {
      "image/png": "[encoded data removed]",
      "text/plain": [
       "<Figure size 300x300 with 2 Axes>"
      ]
     },
     "metadata": {
      "needs_background": "light"
     },
     "output_type": "display_data"
    }
   ],
   "source": [
    "plt.close('all')\n",
    "fig, ax = plt.subplot_mosaic(\n",
    "\t[[0], [1]],\n",
    "\tgridspec_kw=dict(wspace=0.0, hspace=0.0),\n",
    "\tdpi=100,\n",
    "\tfigsize=(3, 3)\n",
    ")\n",
    "ax[0].stem(df.year, df.chevaux, linefmt='C1', markerfmt='C1o', basefmt='k:')\n",
    "ax[1].stem(df.year, df.boeufs, linefmt='C2', markerfmt='C2o', basefmt='k:')\n",
    "ax[1].set_xticks(df.year)\n",
    "ax[1].set_xlabel('year')\n",
    "ax[0].xaxis.set_visible(False)\n",
    "ax[0].spines.bottom.set_visible(False)\n",
    "ax[0].set_ylim((0, 35))\n",
    "ax[1].set_ylim((35, 0))\n",
    "breathe(ax[0], 'x')\n",
    "breathe(ax[1], 'x')\n",
    "plt.show(fig)"
   ]
  }
 ],
 "metadata": {
  "interpreter": {
   "hash": "20eafe25b7d45241115fdc525e3188329eff92b5da4db4cc633d8cc173d4a71c"
  },
  "kernelspec": {
   "display_name": "Python 3.9.5 ('base')",
   "language": "python",
   "name": "python3"
  },
  "language_info": {
   "codemirror_mode": {
    "name": "ipython",
    "version": 3
   },
   "file_extension": ".py",
   "mimetype": "text/x-python",
   "name": "python",
   "nbconvert_exporter": "python",
   "pygments_lexer": "ipython3",
   "version": "3.10.4"
  },
  "orig_nbformat": 4
 },
 "nbformat": 4,
 "nbformat_minor": 2
}
